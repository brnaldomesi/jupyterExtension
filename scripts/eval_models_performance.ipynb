{
 "cells": [
  {
   "cell_type": "code",
   "execution_count": 1,
   "metadata": {
    "pycharm": {
     "name": "#%%\n"
    }
   },
   "outputs": [],
   "source": [
    "import pandas as pd\n",
    "import matplotlib.pyplot as plt"
   ]
  },
  {
   "cell_type": "code",
   "execution_count": 2,
   "metadata": {
    "pycharm": {
     "name": "#%%\n"
    }
   },
   "outputs": [],
   "source": [
    "tf_data = pd.read_csv('output/tf_eval_df.csv')\n",
    "st_data = pd.read_csv('output/st_eval_df.csv')"
   ]
  },
  {
   "cell_type": "code",
   "execution_count": 3,
   "metadata": {
    "pycharm": {
     "name": "#%%\n"
    }
   },
   "outputs": [
    {
     "name": "stdout",
     "output_type": "stream",
     "text": [
      "<class 'pandas.core.frame.DataFrame'>\n",
      "RangeIndex: 352 entries, 0 to 351\n",
      "Data columns (total 9 columns):\n",
      " #   Column                           Non-Null Count  Dtype \n",
      "---  ------                           --------------  ----- \n",
      " 0   category                         352 non-null    object\n",
      " 1   intent_id                        352 non-null    int64 \n",
      " 2   task                             352 non-null    object\n",
      " 3   tf_matched_intent_id             352 non-null    int64 \n",
      " 4   tf_matched_intent_text           352 non-null    object\n",
      " 5   tf_is_intent_matched             352 non-null    bool  \n",
      " 6   tf_matched_intent_id_shuffled    352 non-null    int64 \n",
      " 7   tf_matched_intent_text_shuffled  352 non-null    object\n",
      " 8   tf_is_intent_matched_shuffled    352 non-null    bool  \n",
      "dtypes: bool(2), int64(3), object(4)\n",
      "memory usage: 20.1+ KB\n"
     ]
    }
   ],
   "source": [
    "tf_data.info()"
   ]
  },
  {
   "cell_type": "code",
   "execution_count": 4,
   "metadata": {
    "pycharm": {
     "name": "#%%\n"
    }
   },
   "outputs": [
    {
     "name": "stdout",
     "output_type": "stream",
     "text": [
      "<class 'pandas.core.frame.DataFrame'>\n",
      "RangeIndex: 352 entries, 0 to 351\n",
      "Data columns (total 9 columns):\n",
      " #   Column                           Non-Null Count  Dtype \n",
      "---  ------                           --------------  ----- \n",
      " 0   category                         352 non-null    object\n",
      " 1   intent_id                        352 non-null    int64 \n",
      " 2   task                             352 non-null    object\n",
      " 3   st_matched_intent_id             352 non-null    int64 \n",
      " 4   st_matched_intent_text           352 non-null    object\n",
      " 5   st_is_intent_matched             352 non-null    bool  \n",
      " 6   st_matched_intent_id_shuffled    352 non-null    int64 \n",
      " 7   st_matched_intent_text_shuffled  352 non-null    object\n",
      " 8   st_is_intent_matched_shuffled    352 non-null    bool  \n",
      "dtypes: bool(2), int64(3), object(4)\n",
      "memory usage: 20.1+ KB\n"
     ]
    }
   ],
   "source": [
    "st_data.info()"
   ]
  },
  {
   "cell_type": "code",
   "execution_count": 5,
   "metadata": {
    "pycharm": {
     "name": "#%%\n"
    }
   },
   "outputs": [
    {
     "data": {
      "text/plain": [
       "True    352\n",
       "Name: tf_is_intent_matched, dtype: int64"
      ]
     },
     "execution_count": 5,
     "metadata": {},
     "output_type": "execute_result"
    }
   ],
   "source": [
    "tf_data['tf_is_intent_matched'].value_counts()"
   ]
  },
  {
   "cell_type": "code",
   "execution_count": 6,
   "metadata": {
    "pycharm": {
     "name": "#%%\n"
    }
   },
   "outputs": [
    {
     "data": {
      "text/plain": [
       "True    352\n",
       "Name: st_is_intent_matched, dtype: int64"
      ]
     },
     "execution_count": 6,
     "metadata": {},
     "output_type": "execute_result"
    }
   ],
   "source": [
    "st_data['st_is_intent_matched'].value_counts()"
   ]
  },
  {
   "cell_type": "code",
   "execution_count": 7,
   "metadata": {
    "pycharm": {
     "name": "#%%\n"
    }
   },
   "outputs": [
    {
     "data": {
      "image/png": "[encoded data removed]",
      "text/plain": [
       "<Figure size 432x288 with 1 Axes>"
      ]
     },
     "metadata": {
      "needs_background": "light"
     },
     "output_type": "display_data"
    }
   ],
   "source": [
    "tf_data['tf_is_intent_matched'].value_counts().plot.bar()\n",
    "plt.show()"
   ]
  },
  {
   "cell_type": "code",
   "execution_count": 8,
   "metadata": {
    "pycharm": {
     "name": "#%%\n"
    }
   },
   "outputs": [
    {
     "data": {
      "image/png": "[encoded data removed]",
      "text/plain": [
       "<Figure size 432x288 with 1 Axes>"
      ]
     },
     "metadata": {
      "needs_background": "light"
     },
     "output_type": "display_data"
    }
   ],
   "source": [
    "st_data['st_is_intent_matched'].value_counts().plot.bar()\n",
    "plt.show()"
   ]
  },
  {
   "cell_type": "code",
   "execution_count": 9,
   "metadata": {
    "pycharm": {
     "name": "#%%\n"
    }
   },
   "outputs": [
    {
     "data": {
      "text/plain": [
       "True     351\n",
       "False      1\n",
       "Name: tf_is_intent_matched_shuffled, dtype: int64"
      ]
     },
     "execution_count": 9,
     "metadata": {},
     "output_type": "execute_result"
    }
   ],
   "source": [
    "tf_data['tf_is_intent_matched_shuffled'].value_counts()"
   ]
  },
  {
   "cell_type": "code",
   "execution_count": 10,
   "metadata": {
    "pycharm": {
     "name": "#%%\n"
    }
   },
   "outputs": [
    {
     "data": {
      "text/html": [
       "<div>\n",
       "<style scoped>\n",
       "    .dataframe tbody tr th:only-of-type {\n",
       "        vertical-align: middle;\n",
       "    }\n",
       "\n",
       "    .dataframe tbody tr th {\n",
       "        vertical-align: top;\n",
       "    }\n",
       "\n",
       "    .dataframe thead th {\n",
       "        text-align: right;\n",
       "    }\n",
       "</style>\n",
       "<table border=\"1\" class=\"dataframe\">\n",
       "  <thead>\n",
       "    <tr style=\"text-align: right;\">\n",
       "      <th></th>\n",
       "      <th>category</th>\n",
       "      <th>intent_id</th>\n",
       "      <th>task</th>\n",
       "      <th>tf_matched_intent_id</th>\n",
       "      <th>tf_matched_intent_text</th>\n",
       "      <th>tf_is_intent_matched</th>\n",
       "      <th>tf_matched_intent_id_shuffled</th>\n",
       "      <th>tf_matched_intent_text_shuffled</th>\n",
       "      <th>tf_is_intent_matched_shuffled</th>\n",
       "    </tr>\n",
       "  </thead>\n",
       "  <tbody>\n",
       "    <tr>\n",
       "      <th>169</th>\n",
       "      <td>Airtable</td>\n",
       "      <td>169</td>\n",
       "      <td>Airtable - Get data</td>\n",
       "      <td>169</td>\n",
       "      <td>Airtable - Get data</td>\n",
       "      <td>True</td>\n",
       "      <td>50</td>\n",
       "      <td>Newsapi - Get data</td>\n",
       "      <td>False</td>\n",
       "    </tr>\n",
       "  </tbody>\n",
       "</table>\n",
       "</div>"
      ],
      "text/plain": [
       "     category  intent_id                 task  tf_matched_intent_id  \\\n",
       "169  Airtable        169  Airtable - Get data                   169   \n",
       "\n",
       "    tf_matched_intent_text  tf_is_intent_matched  \\\n",
       "169    Airtable - Get data                  True   \n",
       "\n",
       "     tf_matched_intent_id_shuffled tf_matched_intent_text_shuffled  \\\n",
       "169                             50              Newsapi - Get data   \n",
       "\n",
       "     tf_is_intent_matched_shuffled  \n",
       "169                          False  "
      ]
     },
     "execution_count": 10,
     "metadata": {},
     "output_type": "execute_result"
    }
   ],
   "source": [
    "tf_data[tf_data['tf_is_intent_matched_shuffled'] == False]"
   ]
  },
  {
   "cell_type": "code",
   "execution_count": 11,
   "metadata": {
    "pycharm": {
     "name": "#%%\n"
    }
   },
   "outputs": [
    {
     "data": {
      "image/png": "[encoded data removed]",
      "text/plain": [
       "<Figure size 432x288 with 1 Axes>"
      ]
     },
     "metadata": {
      "needs_background": "light"
     },
     "output_type": "display_data"
    }
   ],
   "source": [
    "tf_data['tf_is_intent_matched_shuffled'].value_counts().plot.bar()\n",
    "plt.show()"
   ]
  },
  {
   "cell_type": "code",
   "execution_count": 12,
   "metadata": {
    "pycharm": {
     "name": "#%%\n"
    }
   },
   "outputs": [
    {
     "data": {
      "text/plain": [
       "True     350\n",
       "False      2\n",
       "Name: st_is_intent_matched_shuffled, dtype: int64"
      ]
     },
     "execution_count": 12,
     "metadata": {},
     "output_type": "execute_result"
    }
   ],
   "source": [
    "st_data['st_is_intent_matched_shuffled'].value_counts()"
   ]
  },
  {
   "cell_type": "code",
   "execution_count": 13,
   "metadata": {
    "pycharm": {
     "name": "#%%\n"
    }
   },
   "outputs": [
    {
     "data": {
      "text/html": [
       "<div>\n",
       "<style scoped>\n",
       "    .dataframe tbody tr th:only-of-type {\n",
       "        vertical-align: middle;\n",
       "    }\n",
       "\n",
       "    .dataframe tbody tr th {\n",
       "        vertical-align: top;\n",
       "    }\n",
       "\n",
       "    .dataframe thead th {\n",
       "        text-align: right;\n",
       "    }\n",
       "</style>\n",
       "<table border=\"1\" class=\"dataframe\">\n",
       "  <thead>\n",
       "    <tr style=\"text-align: right;\">\n",
       "      <th></th>\n",
       "      <th>category</th>\n",
       "      <th>intent_id</th>\n",
       "      <th>task</th>\n",
       "      <th>st_matched_intent_id</th>\n",
       "      <th>st_matched_intent_text</th>\n",
       "      <th>st_is_intent_matched</th>\n",
       "      <th>st_matched_intent_id_shuffled</th>\n",
       "      <th>st_matched_intent_text_shuffled</th>\n",
       "      <th>st_is_intent_matched_shuffled</th>\n",
       "    </tr>\n",
       "  </thead>\n",
       "  <tbody>\n",
       "    <tr>\n",
       "      <th>34</th>\n",
       "      <td>Google Sheets</td>\n",
       "      <td>34</td>\n",
       "      <td>Google Sheets - Send data to MongoDB</td>\n",
       "      <td>34</td>\n",
       "      <td>Google Sheets - Send data to MongoDB</td>\n",
       "      <td>True</td>\n",
       "      <td>126</td>\n",
       "      <td>MongoDB - Send data to Google Sheets</td>\n",
       "      <td>False</td>\n",
       "    </tr>\n",
       "    <tr>\n",
       "      <th>126</th>\n",
       "      <td>MongoDB</td>\n",
       "      <td>126</td>\n",
       "      <td>MongoDB - Send data to Google Sheets</td>\n",
       "      <td>126</td>\n",
       "      <td>MongoDB - Send data to Google Sheets</td>\n",
       "      <td>True</td>\n",
       "      <td>34</td>\n",
       "      <td>Google Sheets - Send data to MongoDB</td>\n",
       "      <td>False</td>\n",
       "    </tr>\n",
       "  </tbody>\n",
       "</table>\n",
       "</div>"
      ],
      "text/plain": [
       "          category  intent_id                                  task  \\\n",
       "34   Google Sheets         34  Google Sheets - Send data to MongoDB   \n",
       "126        MongoDB        126  MongoDB - Send data to Google Sheets   \n",
       "\n",
       "     st_matched_intent_id                st_matched_intent_text  \\\n",
       "34                     34  Google Sheets - Send data to MongoDB   \n",
       "126                   126  MongoDB - Send data to Google Sheets   \n",
       "\n",
       "     st_is_intent_matched  st_matched_intent_id_shuffled  \\\n",
       "34                   True                            126   \n",
       "126                  True                             34   \n",
       "\n",
       "          st_matched_intent_text_shuffled  st_is_intent_matched_shuffled  \n",
       "34   MongoDB - Send data to Google Sheets                          False  \n",
       "126  Google Sheets - Send data to MongoDB                          False  "
      ]
     },
     "execution_count": 13,
     "metadata": {},
     "output_type": "execute_result"
    }
   ],
   "source": [
    "st_data[st_data['st_is_intent_matched_shuffled'] == False]"
   ]
  },
  {
   "cell_type": "code",
   "execution_count": 14,
   "metadata": {
    "pycharm": {
     "name": "#%%\n"
    }
   },
   "outputs": [
    {
     "data": {
      "image/png": "[encoded data removed]",
      "text/plain": [
       "<Figure size 432x288 with 1 Axes>"
      ]
     },
     "metadata": {
      "needs_background": "light"
     },
     "output_type": "display_data"
    }
   ],
   "source": [
    "st_data['st_is_intent_matched_shuffled'].value_counts().plot.bar()\n",
    "plt.show()"
   ]
  },
  {
   "cell_type": "code",
   "execution_count": 27,
   "metadata": {
    "pycharm": {
     "name": "#%%\n"
    }
   },
   "outputs": [
    {
     "data": {
      "text/html": [
       "<div>\n",
       "<style scoped>\n",
       "    .dataframe tbody tr th:only-of-type {\n",
       "        vertical-align: middle;\n",
       "    }\n",
       "\n",
       "    .dataframe tbody tr th {\n",
       "        vertical-align: top;\n",
       "    }\n",
       "\n",
       "    .dataframe thead th {\n",
       "        text-align: right;\n",
       "    }\n",
       "</style>\n",
       "<table border=\"1\" class=\"dataframe\">\n",
       "  <thead>\n",
       "    <tr style=\"text-align: right;\">\n",
       "      <th></th>\n",
       "      <th>repetitions</th>\n",
       "      <th>tf_time_elapsed</th>\n",
       "      <th>st_time_elapsed</th>\n",
       "    </tr>\n",
       "  </thead>\n",
       "  <tbody>\n",
       "    <tr>\n",
       "      <th>0</th>\n",
       "      <td>0</td>\n",
       "      <td>0.000003</td>\n",
       "      <td>0.000002</td>\n",
       "    </tr>\n",
       "    <tr>\n",
       "      <th>1</th>\n",
       "      <td>1</td>\n",
       "      <td>1.755822</td>\n",
       "      <td>8.272556</td>\n",
       "    </tr>\n",
       "    <tr>\n",
       "      <th>2</th>\n",
       "      <td>2</td>\n",
       "      <td>3.255506</td>\n",
       "      <td>17.061706</td>\n",
       "    </tr>\n",
       "    <tr>\n",
       "      <th>3</th>\n",
       "      <td>3</td>\n",
       "      <td>4.404537</td>\n",
       "      <td>26.071062</td>\n",
       "    </tr>\n",
       "    <tr>\n",
       "      <th>4</th>\n",
       "      <td>4</td>\n",
       "      <td>6.189593</td>\n",
       "      <td>35.721578</td>\n",
       "    </tr>\n",
       "    <tr>\n",
       "      <th>5</th>\n",
       "      <td>5</td>\n",
       "      <td>7.772967</td>\n",
       "      <td>44.145934</td>\n",
       "    </tr>\n",
       "    <tr>\n",
       "      <th>6</th>\n",
       "      <td>6</td>\n",
       "      <td>9.517264</td>\n",
       "      <td>56.337967</td>\n",
       "    </tr>\n",
       "    <tr>\n",
       "      <th>7</th>\n",
       "      <td>7</td>\n",
       "      <td>10.562992</td>\n",
       "      <td>72.224635</td>\n",
       "    </tr>\n",
       "    <tr>\n",
       "      <th>8</th>\n",
       "      <td>8</td>\n",
       "      <td>12.480063</td>\n",
       "      <td>78.887859</td>\n",
       "    </tr>\n",
       "    <tr>\n",
       "      <th>9</th>\n",
       "      <td>9</td>\n",
       "      <td>13.984340</td>\n",
       "      <td>87.984332</td>\n",
       "    </tr>\n",
       "    <tr>\n",
       "      <th>10</th>\n",
       "      <td>10</td>\n",
       "      <td>15.344909</td>\n",
       "      <td>103.883669</td>\n",
       "    </tr>\n",
       "  </tbody>\n",
       "</table>\n",
       "</div>"
      ],
      "text/plain": [
       "    repetitions  tf_time_elapsed  st_time_elapsed\n",
       "0             0         0.000003         0.000002\n",
       "1             1         1.755822         8.272556\n",
       "2             2         3.255506        17.061706\n",
       "3             3         4.404537        26.071062\n",
       "4             4         6.189593        35.721578\n",
       "5             5         7.772967        44.145934\n",
       "6             6         9.517264        56.337967\n",
       "7             7        10.562992        72.224635\n",
       "8             8        12.480063        78.887859\n",
       "9             9        13.984340        87.984332\n",
       "10           10        15.344909       103.883669"
      ]
     },
     "execution_count": 27,
     "metadata": {},
     "output_type": "execute_result"
    }
   ],
   "source": [
    "speed_benchmark = pd.read_csv('output/speed_benchmark.csv')\n",
    "speed_benchmark"
   ]
  },
  {
   "cell_type": "code",
   "execution_count": 28,
   "metadata": {
    "pycharm": {
     "name": "#%%\n"
    }
   },
   "outputs": [
    {
     "data": {
      "image/png": "[encoded data removed]",
      "text/plain": [
       "<Figure size 432x288 with 1 Axes>"
      ]
     },
     "metadata": {
      "needs_background": "light"
     },
     "output_type": "display_data"
    }
   ],
   "source": [
    "plt.plot(speed_benchmark['repetitions'], speed_benchmark['tf_time_elapsed'], label='Tensorflow Hub')\n",
    "plt.plot(speed_benchmark['repetitions'], speed_benchmark['st_time_elapsed'], label='Sentence Transformer')\n",
    "\n",
    "plt.xlabel('No. of repetitions')\n",
    "plt.ylabel('Time elapsed in seconds')\n",
    "plt.legend(loc=\"upper left\")\n",
    "\n",
    "plt.show()"
   ]
  },
  {
   "cell_type": "code",
   "execution_count": 10,
   "metadata": {
    "pycharm": {
     "name": "#%%\n"
    }
   },
   "outputs": [
    {
     "data": {
      "text/plain": "<IPython.core.display.HTML object>",
      "text/html": "<span class=\"tex2jax_ignore\"><div class=\"entities\" style=\"line-height: 2.5; direction: ltr\">make scatter plot of \n<mark class=\"entity\" style=\"background: #ddd; padding: 0.45em 0.6em; margin: 0 0.25em; line-height: 1; border-radius: 0.35em;\">\n    time_elapsed\n    <span style=\"font-size: 0.8em; font-weight: bold; line-height: 1; border-radius: 0.35em; vertical-align: middle; margin-left: 0.5rem\">COLNAME</span>\n</mark>\n and \n<mark class=\"entity\" style=\"background: #ddd; padding: 0.45em 0.6em; margin: 0 0.25em; line-height: 1; border-radius: 0.35em;\">\n    height_from_ground_level\n    <span style=\"font-size: 0.8em; font-weight: bold; line-height: 1; border-radius: 0.35em; vertical-align: middle; margin-left: 0.5rem\">COLNAME</span>\n</mark>\n from \n<mark class=\"entity\" style=\"background: #ddd; padding: 0.45em 0.6em; margin: 0 0.25em; line-height: 1; border-radius: 0.35em;\">\n    df\n    <span style=\"font-size: 0.8em; font-weight: bold; line-height: 1; border-radius: 0.35em; vertical-align: middle; margin-left: 0.5rem\">VARNAME</span>\n</mark>\n</div></span>"
     },
     "metadata": {},
     "output_type": "display_data"
    }
   ],
   "source": [
    "import spacy\n",
    "nlp = spacy.load(\"training/model-best\")\n",
    "doc = nlp('make scatter plot of time_elapsed and height_from_ground_level from df')\n",
    "spacy.displacy.render(doc, style=\"ent\", jupyter=True)"
   ]
  }
 ],
 "metadata": {
  "kernelspec": {
   "display_name": "Python 3 (ipykernel)",
   "language": "python",
   "name": "python3"
  },
  "language_info": {
   "codemirror_mode": {
    "name": "ipython",
    "version": 3
   },
   "file_extension": ".py",
   "mimetype": "text/x-python",
   "name": "python",
   "nbconvert_exporter": "python",
   "pygments_lexer": "ipython3",
   "version": "3.9.12"
  }
 },
 "nbformat": 4,
 "nbformat_minor": 1
}